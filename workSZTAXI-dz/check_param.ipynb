{
 "cells": [
  {
   "cell_type": "code",
   "execution_count": 1,
   "metadata": {},
   "outputs": [
    {
     "data": {
      "text/plain": [
       "'/home/cseadmin/dz/DL-Traff-Graph/workSZTAXI-dz'"
      ]
     },
     "execution_count": 1,
     "metadata": {},
     "output_type": "execute_result"
    }
   ],
   "source": [
    "import numpy as np\n",
    "import os\n",
    "\n",
    "%pwd"
   ]
  },
  {
   "cell_type": "code",
   "execution_count": 6,
   "metadata": {},
   "outputs": [
    {
     "name": "stdout",
     "output_type": "stream",
     "text": [
      "STGCN3, test, MSE, RMSE, MAE, MAPE, 19.6155305109, 4.4289423693, 3.4273826888, 32.5209753751\n",
      "\n",
      "STGCN3_18.log\n"
     ]
    }
   ],
   "source": [
    "min_mape=6666\n",
    "for root, dirs, files in os.walk(\"../log_flow_knn/3\"):\n",
    "    for fi in files:\n",
    "        with open(os.path.join(root, fi), \"r\") as f:\n",
    "            line=f.readlines()[-3]\n",
    "            mape=float(line.split(\",\")[-1].strip(\"\\n\"))\n",
    "            if mape<min_mape:\n",
    "                min_mape=mape\n",
    "                min_file=fi\n",
    "                min_line=line\n",
    "\n",
    "print(min_line)\n",
    "print(min_file)"
   ]
  },
  {
   "cell_type": "code",
   "execution_count": 10,
   "metadata": {},
   "outputs": [
    {
     "name": "stdout",
     "output_type": "stream",
     "text": [
      "STGCN6, test, MSE, RMSE, MAE, MAPE, 21.1041467988, 4.5939249884, 3.5299048148, 33.2331068550\n",
      "\n",
      "STGCN6_14.log\n"
     ]
    }
   ],
   "source": [
    "min_mae=6666\n",
    "for root, dirs, files in os.walk(\"../log_flow_knn/6\"):\n",
    "    for fi in files:\n",
    "        with open(os.path.join(root, fi), \"r\") as f:\n",
    "            line=f.readlines()[-3]\n",
    "            mae=float(line.split(\",\")[-2].strip(\"\\n\"))\n",
    "            if mae<min_mae:\n",
    "                min_mae=mae\n",
    "                min_file=fi\n",
    "                min_line=line\n",
    "\n",
    "print(min_line)\n",
    "print(min_file)"
   ]
  },
  {
   "cell_type": "code",
   "execution_count": 22,
   "metadata": {},
   "outputs": [
    {
     "name": "stdout",
     "output_type": "stream",
     "text": [
      "STGCN12, test, MSE, RMSE, MAE, MAPE, 24.7531360598, 4.9752523614, 3.7819445473, 35.3071687839\n",
      "\n",
      "STGCN12_2.log\n"
     ]
    }
   ],
   "source": [
    "min_mape=6666\n",
    "for root, dirs, files in os.walk(\"../log_flow_knn/12\"):\n",
    "    for fi in files:\n",
    "        with open(os.path.join(root, fi), \"r\") as f:\n",
    "            line=f.readlines()[-3]\n",
    "            mape=float(line.split(\",\")[-1].strip(\"\\n\"))\n",
    "            if mape<min_mape:\n",
    "                min_mape=mape\n",
    "                min_file=fi\n",
    "                min_line=line\n",
    "\n",
    "print(min_line)\n",
    "print(min_file)"
   ]
  },
  {
   "cell_type": "markdown",
   "metadata": {},
   "source": [
    "---"
   ]
  },
  {
   "cell_type": "code",
   "execution_count": 14,
   "metadata": {},
   "outputs": [
    {
     "name": "stdout",
     "output_type": "stream",
     "text": [
      "STGCN3, test, MSE, RMSE, MAE, MAPE, 43.6143826142, 6.6041186099, 4.6466566385, 23.6569024172\n",
      "\n",
      "STGCN3_10.log\n"
     ]
    }
   ],
   "source": [
    "min_mape=6666\n",
    "for root, dirs, files in os.walk(\"../log_speed_knn/3\"):\n",
    "    for fi in files:\n",
    "        with open(os.path.join(root, fi), \"r\") as f:\n",
    "            line=f.readlines()[-3]\n",
    "            mape=float(line.split(\",\")[-1].strip(\"\\n\"))\n",
    "            if mape<min_mape:\n",
    "                min_mape=mape\n",
    "                min_file=fi\n",
    "                min_line=line\n",
    "\n",
    "print(min_line)\n",
    "print(min_file)"
   ]
  },
  {
   "cell_type": "code",
   "execution_count": 7,
   "metadata": {},
   "outputs": [
    {
     "name": "stdout",
     "output_type": "stream",
     "text": [
      "STGCN6, test, MSE, RMSE, MAE, MAPE, 43.7936519454, 6.6176772319, 4.6674008204, 23.7861374051\n",
      "\n",
      "STGCN6_18.log\n"
     ]
    }
   ],
   "source": [
    "min_mape=6666\n",
    "for root, dirs, files in os.walk(\"../log_speed_knn/6\"):\n",
    "    for fi in files:\n",
    "        with open(os.path.join(root, fi), \"r\") as f:\n",
    "            line=f.readlines()[-3]\n",
    "            mape=float(line.split(\",\")[-1].strip(\"\\n\"))\n",
    "            if mape<min_mape:\n",
    "                min_mape=mape\n",
    "                min_file=fi\n",
    "                min_line=line\n",
    "\n",
    "print(min_line)\n",
    "print(min_file)"
   ]
  },
  {
   "cell_type": "code",
   "execution_count": 18,
   "metadata": {},
   "outputs": [
    {
     "name": "stdout",
     "output_type": "stream",
     "text": [
      "STGCN12, test, MSE, RMSE, MAE, MAPE, 44.4663135717, 6.6683066495, 4.7178427705, 24.0045752011\n",
      "\n",
      "STGCN12_10.log\n"
     ]
    }
   ],
   "source": [
    "min_mae=6666\n",
    "for root, dirs, files in os.walk(\"../log_speed_knn/12\"):\n",
    "    for fi in files:\n",
    "        with open(os.path.join(root, fi), \"r\") as f:\n",
    "            line=f.readlines()[-3]\n",
    "            mae=float(line.split(\",\")[-2].strip(\"\\n\"))\n",
    "            if mae<min_mae:\n",
    "                min_mae=mae\n",
    "                min_file=fi\n",
    "                min_line=line\n",
    "\n",
    "print(min_line)\n",
    "print(min_file)"
   ]
  }
 ],
 "metadata": {
  "interpreter": {
   "hash": "6c06479978a9afb049dacef30f4b37fb04e7a2dfd65fe1755a86e45fec2f65ba"
  },
  "kernelspec": {
   "display_name": "Python 3.7.11 ('torch1.7')",
   "language": "python",
   "name": "python3"
  },
  "language_info": {
   "codemirror_mode": {
    "name": "ipython",
    "version": 3
   },
   "file_extension": ".py",
   "mimetype": "text/x-python",
   "name": "python",
   "nbconvert_exporter": "python",
   "pygments_lexer": "ipython3",
   "version": "3.7.11"
  },
  "orig_nbformat": 4
 },
 "nbformat": 4,
 "nbformat_minor": 2
}
