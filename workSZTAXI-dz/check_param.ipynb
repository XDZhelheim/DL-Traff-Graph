{
 "cells": [
  {
   "cell_type": "code",
   "execution_count": 1,
   "metadata": {},
   "outputs": [
    {
     "data": {
      "text/plain": [
       "'/home/cseadmin/dz/DL-Traff-Graph/workSZTAXI-dz'"
      ]
     },
     "execution_count": 1,
     "metadata": {},
     "output_type": "execute_result"
    }
   ],
   "source": [
    "import numpy as np\n",
    "import os\n",
    "\n",
    "%pwd"
   ]
  },
  {
   "cell_type": "code",
   "execution_count": 6,
   "metadata": {},
   "outputs": [
    {
     "name": "stdout",
     "output_type": "stream",
     "text": [
      "STGCN3, test, MSE, RMSE, MAE, MAPE, 19.6155305109, 4.4289423693, 3.4273826888, 32.5209753751\n",
      "\n",
      "STGCN3_18.log\n"
     ]
    }
   ],
   "source": [
    "min_mape=6666\n",
    "for root, dirs, files in os.walk(\"../log_flow_knn/3\"):\n",
    "    for fi in files:\n",
    "        with open(os.path.join(root, fi), \"r\") as f:\n",
    "            line=f.readlines()[-3]\n",
    "            mape=float(line.split(\",\")[-1].strip(\"\\n\"))\n",
    "            if mape<min_mape:\n",
    "                min_mape=mape\n",
    "                min_file=fi\n",
    "                min_line=line\n",
    "\n",
    "print(min_line)\n",
    "print(min_file)"
   ]
  },
  {
   "cell_type": "code",
   "execution_count": 10,
   "metadata": {},
   "outputs": [
    {
     "name": "stdout",
     "output_type": "stream",
     "text": [
      "STGCN6, test, MSE, RMSE, MAE, MAPE, 21.1041467988, 4.5939249884, 3.5299048148, 33.2331068550\n",
      "\n",
      "STGCN6_14.log\n"
     ]
    }
   ],
   "source": [
    "min_mae=6666\n",
    "for root, dirs, files in os.walk(\"../log_flow_knn/6\"):\n",
    "    for fi in files:\n",
    "        with open(os.path.join(root, fi), \"r\") as f:\n",
    "            line=f.readlines()[-3]\n",
    "            mae=float(line.split(\",\")[-2].strip(\"\\n\"))\n",
    "            if mae<min_mae:\n",
    "                min_mae=mae\n",
    "                min_file=fi\n",
    "                min_line=line\n",
    "\n",
    "print(min_line)\n",
    "print(min_file)"
   ]
  },
  {
   "cell_type": "code",
   "execution_count": 22,
   "metadata": {},
   "outputs": [
    {
     "name": "stdout",
     "output_type": "stream",
     "text": [
      "STGCN12, test, MSE, RMSE, MAE, MAPE, 24.7531360598, 4.9752523614, 3.7819445473, 35.3071687839\n",
      "\n",
      "STGCN12_2.log\n"
     ]
    }
   ],
   "source": [
    "min_mape=6666\n",
    "for root, dirs, files in os.walk(\"../log_flow_knn/12\"):\n",
    "    for fi in files:\n",
    "        with open(os.path.join(root, fi), \"r\") as f:\n",
    "            line=f.readlines()[-3]\n",
    "            mape=float(line.split(\",\")[-1].strip(\"\\n\"))\n",
    "            if mape<min_mape:\n",
    "                min_mape=mape\n",
    "                min_file=fi\n",
    "                min_line=line\n",
    "\n",
    "print(min_line)\n",
    "print(min_file)"
   ]
  },
  {
   "cell_type": "code",
   "execution_count": 41,
   "metadata": {},
   "outputs": [
    {
     "data": {
      "text/plain": [
       "[[33.0792281649, 33.6708196002, 35.3071687839],\n",
       " [32.9965813255, 33.5670178461, 36.4885352802],\n",
       " [33.0506098262, 33.4882120112, 36.4935067758],\n",
       " [32.712461603, 33.5052430128, 36.9219474297],\n",
       " [32.9853115939, 33.4165857728, 36.2395071898],\n",
       " [33.0637876073, 33.28259861, 36.6399955263],\n",
       " [32.8104305152, 33.3704952097, 35.959389751],\n",
       " [32.5969863106, 33.5204979601, 36.6491804146],\n",
       " [32.6875826004, 33.5051419547, 36.3607196606],\n",
       " [32.6630358878, 33.2777683048, 36.6450837229],\n",
       " [32.5758647784, 33.2995334821, 36.4620364305],\n",
       " [32.665080394, 33.6285981342, 36.433133623],\n",
       " [32.5720876739, 33.233106855, 36.3516416013],\n",
       " [32.6411996555, 33.3310866712, 36.3318213903],\n",
       " [32.5590279237, 33.3452144268, 36.1855111582],\n",
       " [32.634382139, 33.2311740553, 36.2944834097],\n",
       " [32.5209753751, 33.272645768, 36.2633515994],\n",
       " [32.6709313915, 33.3566868341, 35.8030431239],\n",
       " [32.5786090051, 33.5356192332, 35.8553222762]]"
      ]
     },
     "execution_count": 41,
     "metadata": {},
     "output_type": "execute_result"
    }
   ],
   "source": [
    "k_metrics=[[] for i in range(21)]\n",
    "\n",
    "for step in [3, 6, 12]:\n",
    "    for k in range(2, 21):\n",
    "        with open(f\"../log_flow_knn/{step}/STGCN{step}_{k}.log\") as f:\n",
    "            line=f.readlines()[-3]\n",
    "            metric=float(line.split(\",\")[-1].strip(\"\\n\"))\n",
    "            k_metrics[k].append(metric)\n",
    "\n",
    "# print(np.argmin(k_metrics[2:])+2)\n",
    "k_metrics[2:]"
   ]
  },
  {
   "cell_type": "code",
   "execution_count": 42,
   "metadata": {},
   "outputs": [
    {
     "name": "stdout",
     "output_type": "stream",
     "text": [
      "STGCN3, test, MSE, RMSE, MAE, MAPE, 19.5518451747, 4.4217468465, 3.4319744064, 32.6709313915\n",
      "\n",
      "STGCN6, test, MSE, RMSE, MAE, MAPE, 21.2753733795, 4.6125235370, 3.5472884614, 33.3566868341\n",
      "\n",
      "STGCN12, test, MSE, RMSE, MAE, MAPE, 25.2918987946, 5.0291051684, 3.8184089209, 35.8030431239\n",
      "\n"
     ]
    }
   ],
   "source": [
    "# STGCN k=19\n",
    "\n",
    "step=3\n",
    "k=19\n",
    "with open(f\"../log_flow_knn/{step}/STGCN{step}_{k}.log\") as f:\n",
    "    line=f.readlines()[-3]\n",
    "    print(line)\n",
    "    \n",
    "step=6\n",
    "k=19\n",
    "with open(f\"../log_flow_knn/{step}/STGCN{step}_{k}.log\") as f:\n",
    "    line=f.readlines()[-3]\n",
    "    print(line)\n",
    "    \n",
    "step=12\n",
    "k=19\n",
    "with open(f\"../log_flow_knn/{step}/STGCN{step}_{k}.log\") as f:\n",
    "    line=f.readlines()[-3]\n",
    "    print(line)"
   ]
  },
  {
   "cell_type": "markdown",
   "metadata": {},
   "source": [
    "---"
   ]
  },
  {
   "cell_type": "code",
   "execution_count": 14,
   "metadata": {},
   "outputs": [
    {
     "name": "stdout",
     "output_type": "stream",
     "text": [
      "STGCN3, test, MSE, RMSE, MAE, MAPE, 43.6143826142, 6.6041186099, 4.6466566385, 23.6569024172\n",
      "\n",
      "STGCN3_10.log\n"
     ]
    }
   ],
   "source": [
    "min_mape=6666\n",
    "for root, dirs, files in os.walk(\"../log_speed_knn/3\"):\n",
    "    for fi in files:\n",
    "        with open(os.path.join(root, fi), \"r\") as f:\n",
    "            line=f.readlines()[-3]\n",
    "            mape=float(line.split(\",\")[-1].strip(\"\\n\"))\n",
    "            if mape<min_mape:\n",
    "                min_mape=mape\n",
    "                min_file=fi\n",
    "                min_line=line\n",
    "\n",
    "print(min_line)\n",
    "print(min_file)"
   ]
  },
  {
   "cell_type": "code",
   "execution_count": 7,
   "metadata": {},
   "outputs": [
    {
     "name": "stdout",
     "output_type": "stream",
     "text": [
      "STGCN6, test, MSE, RMSE, MAE, MAPE, 43.7936519454, 6.6176772319, 4.6674008204, 23.7861374051\n",
      "\n",
      "STGCN6_18.log\n"
     ]
    }
   ],
   "source": [
    "min_mape=6666\n",
    "for root, dirs, files in os.walk(\"../log_speed_knn/6\"):\n",
    "    for fi in files:\n",
    "        with open(os.path.join(root, fi), \"r\") as f:\n",
    "            line=f.readlines()[-3]\n",
    "            mape=float(line.split(\",\")[-1].strip(\"\\n\"))\n",
    "            if mape<min_mape:\n",
    "                min_mape=mape\n",
    "                min_file=fi\n",
    "                min_line=line\n",
    "\n",
    "print(min_line)\n",
    "print(min_file)"
   ]
  },
  {
   "cell_type": "code",
   "execution_count": 18,
   "metadata": {},
   "outputs": [
    {
     "name": "stdout",
     "output_type": "stream",
     "text": [
      "STGCN12, test, MSE, RMSE, MAE, MAPE, 44.4663135717, 6.6683066495, 4.7178427705, 24.0045752011\n",
      "\n",
      "STGCN12_10.log\n"
     ]
    }
   ],
   "source": [
    "min_mae=6666\n",
    "for root, dirs, files in os.walk(\"../log_speed_knn/12\"):\n",
    "    for fi in files:\n",
    "        with open(os.path.join(root, fi), \"r\") as f:\n",
    "            line=f.readlines()[-3]\n",
    "            mae=float(line.split(\",\")[-2].strip(\"\\n\"))\n",
    "            if mae<min_mae:\n",
    "                min_mae=mae\n",
    "                min_file=fi\n",
    "                min_line=line\n",
    "\n",
    "print(min_line)\n",
    "print(min_file)"
   ]
  },
  {
   "cell_type": "code",
   "execution_count": 49,
   "metadata": {},
   "outputs": [
    {
     "data": {
      "text/plain": [
       "[[23.7785044325, 23.950744735, 24.0358457569],\n",
       " [23.6659216577, 24.0074658762, 24.1501081835],\n",
       " [24.0480204712, 24.2972867029, 24.1069466921],\n",
       " [23.8112115331, 23.9553983816, 24.1318307526],\n",
       " [23.7564839406, 24.4232822564, 24.2286444523],\n",
       " [23.8453755114, 23.9868483655, 24.0607600729],\n",
       " [23.692747479, 23.9881226463, 24.0647952066],\n",
       " [23.8356853773, 24.3753889364, 24.0632815939],\n",
       " [23.6569024172, 24.0388490515, 24.0045752011],\n",
       " [23.7713593066, 24.0573732664, 24.0043682243],\n",
       " [23.6621513489, 24.0518298528, 24.0599370278],\n",
       " [23.6815175427, 24.1369874052, 24.1041041931],\n",
       " [23.6805539215, 23.8705201201, 24.0081418799],\n",
       " [23.6654771716, 24.2376673482, 24.053430866],\n",
       " [23.6849061965, 23.9285599332, 24.1249273062],\n",
       " [23.6823441143, 24.2165122341, 24.1064113432],\n",
       " [23.712664928, 23.7861374051, 24.061321819],\n",
       " [23.7052164891, 24.2134913901, 24.3159974774],\n",
       " [23.7358630796, 24.2339666897, 24.2583877758]]"
      ]
     },
     "execution_count": 49,
     "metadata": {},
     "output_type": "execute_result"
    }
   ],
   "source": [
    "k_metrics=[[] for i in range(21)]\n",
    "\n",
    "for step in [3, 6, 12]:\n",
    "    for k in range(2, 21):\n",
    "        with open(f\"../log_speed_knn/{step}/STGCN{step}_{k}.log\") as f:\n",
    "            line=f.readlines()[-3]\n",
    "            metric=float(line.split(\",\")[-1].strip(\"\\n\"))\n",
    "            k_metrics[k].append(metric)\n",
    "\n",
    "k_metrics[2:]"
   ]
  },
  {
   "cell_type": "code",
   "execution_count": 45,
   "metadata": {},
   "outputs": [
    {
     "name": "stdout",
     "output_type": "stream",
     "text": [
      "STGCN3, test, MSE, RMSE, MAE, MAPE, 43.6143826142, 6.6041186099, 4.6466566385, 23.6569024172\n",
      "\n",
      "STGCN6, test, MSE, RMSE, MAE, MAPE, 43.9251101629, 6.6276021428, 4.6817361362, 24.0388490515\n",
      "\n",
      "STGCN12, test, MSE, RMSE, MAE, MAPE, 44.4663135717, 6.6683066495, 4.7178427705, 24.0045752011\n",
      "\n"
     ]
    }
   ],
   "source": [
    "# STGCN speed k=10\n",
    "\n",
    "step=3\n",
    "k=10\n",
    "with open(f\"../log_speed_knn/{step}/STGCN{step}_{k}.log\") as f:\n",
    "    line=f.readlines()[-3]\n",
    "    print(line)\n",
    "    \n",
    "step=6\n",
    "with open(f\"../log_speed_knn/{step}/STGCN{step}_{k}.log\") as f:\n",
    "    line=f.readlines()[-3]\n",
    "    print(line)\n",
    "    \n",
    "step=12\n",
    "with open(f\"../log_speed_knn/{step}/STGCN{step}_{k}.log\") as f:\n",
    "    line=f.readlines()[-3]\n",
    "    print(line)"
   ]
  },
  {
   "cell_type": "markdown",
   "metadata": {},
   "source": [
    "---"
   ]
  },
  {
   "cell_type": "code",
   "execution_count": 57,
   "metadata": {},
   "outputs": [
    {
     "data": {
      "text/plain": [
       "[['4.8931458657', '3.7239080423', '34.6865057945\\n'],\n",
       " ['4.6942426919', '3.5811554560', '33.8970303535\\n'],\n",
       " ['4.6895035730', '3.6051506691', '33.9444756508\\n'],\n",
       " ['4.7637370312', '3.6302792619', '34.2656016350\\n'],\n",
       " ['4.6199202719', '3.5413310875', '33.5650682449\\n'],\n",
       " ['4.6566098733', '3.5803125101', '33.6813986301\\n'],\n",
       " ['4.7004380516', '3.6157833945', '33.9511275291\\n'],\n",
       " ['4.6710481701', '3.5875156895', '33.7017059326\\n'],\n",
       " ['4.6437683226', '3.5579666267', '33.5603952408\\n'],\n",
       " ['4.6920837798', '3.5926227676', '33.7894380093\\n'],\n",
       " ['4.6945372151', '3.5734118849', '33.5952430964\\n'],\n",
       " ['4.6676083659', '3.5754793168', '33.6627602577\\n'],\n",
       " ['4.7402686691', '3.6267769821', '34.0669661760\\n'],\n",
       " ['4.7514428341', '3.6339606139', '34.0072393417\\n'],\n",
       " ['4.7169101086', '3.6049314773', '33.9345544577\\n'],\n",
       " ['4.7010881236', '3.5876631011', '33.7268799543\\n'],\n",
       " ['4.7279478568', '3.6085010905', '34.0921014547\\n'],\n",
       " ['4.6815471662', '3.5737355590', '33.5743844509\\n'],\n",
       " ['4.6781881710', '3.5752900833', '33.6326718330\\n']]"
      ]
     },
     "execution_count": 57,
     "metadata": {},
     "output_type": "execute_result"
    }
   ],
   "source": [
    "k_metrics=[]\n",
    "\n",
    "for k in range(2, 21):\n",
    "    with open(f\"../log_flow_knn/GWN/GWN_{k}.log\") as f:\n",
    "        line=f.readlines()[-14]\n",
    "        # metric=float(line.split(\",\")[-1].strip(\"\\n\"))\n",
    "        k_metrics.append(line.split(\", \")[-3:])\n",
    "\n",
    "k_metrics"
   ]
  },
  {
   "cell_type": "code",
   "execution_count": 69,
   "metadata": {},
   "outputs": [
    {
     "name": "stdout",
     "output_type": "stream",
     "text": [
      "all pred steps, GraphWaveNet, test, MSE, RMSE, MAE, MAPE, 21.3436633191, 4.6199202719, 3.5413310875, 33.5650682449\n",
      "1 step, GraphWaveNet, test, MSE, RMSE, MAE, MAPE, 18.0804761498, 4.2521143152, 3.3156155658, 31.8580657244\n",
      "2 step, GraphWaveNet, test, MSE, RMSE, MAE, MAPE, 18.8033812842, 4.3362865777, 3.3699299210, 32.2511374950\n",
      "3 step, GraphWaveNet, test, MSE, RMSE, MAE, MAPE, 19.4642546518, 4.4118312130, 3.4125406483, 32.6078206301\n",
      "4 step, GraphWaveNet, test, MSE, RMSE, MAE, MAPE, 20.0362581621, 4.4761879051, 3.4522848209, 32.8966170549\n",
      "5 step, GraphWaveNet, test, MSE, RMSE, MAE, MAPE, 20.5010458973, 4.5278080676, 3.4862649400, 33.1381767988\n",
      "6 step, GraphWaveNet, test, MSE, RMSE, MAE, MAPE, 20.9040784158, 4.5720978135, 3.5109716121, 33.3134144545\n",
      "7 step, GraphWaveNet, test, MSE, RMSE, MAE, MAPE, 21.4993616464, 4.6367404118, 3.5575905519, 33.7009400129\n",
      "8 step, GraphWaveNet, test, MSE, RMSE, MAE, MAPE, 22.0759661024, 4.6985067950, 3.5937482909, 33.9911520481\n",
      "9 step, GraphWaveNet, test, MSE, RMSE, MAE, MAPE, 22.6471040321, 4.7588973547, 3.6325513534, 34.2716962099\n",
      "10 step, GraphWaveNet, test, MSE, RMSE, MAE, MAPE, 23.2906333741, 4.8260370258, 3.6783662732, 34.5853179693\n",
      "11 step, GraphWaveNet, test, MSE, RMSE, MAE, MAPE, 24.0697241750, 4.9060905184, 3.7251266806, 34.9429190159\n",
      "12 step, GraphWaveNet, test, MSE, RMSE, MAE, MAPE, 24.7968276645, 4.9796413189, 3.7640327878, 35.2466464043\n",
      "Model Testing Ended ... Tue May 31 01:55:31 2022\n"
     ]
    }
   ],
   "source": [
    "# GWN k=6\n",
    "\n",
    "k=6\n",
    "with open(f\"../log_flow_knn/GWN/GWN_{k}.log\") as f:\n",
    "        lines=f.readlines()[-14:]\n",
    "        for line in lines:\n",
    "            print(line, end=\"\")"
   ]
  },
  {
   "cell_type": "code",
   "execution_count": 70,
   "metadata": {},
   "outputs": [
    {
     "data": {
      "text/plain": [
       "[['6.7356824786', '4.7646216662', '24.3055209517\\n'],\n",
       " ['6.6545787708', '4.6960630096', '23.9469513297\\n'],\n",
       " ['6.6517116885', '4.7019949046', '24.0484669805\\n'],\n",
       " ['6.8606863364', '4.8896525799', '25.0305175781\\n'],\n",
       " ['6.6297896427', '4.6777356049', '23.9362627268\\n'],\n",
       " ['6.6306089370', '4.6626561261', '23.9903822541\\n'],\n",
       " ['6.6274195499', '4.6791566716', '23.8366141915\\n'],\n",
       " ['6.6340954475', '4.6821699925', '23.7818464637\\n'],\n",
       " ['6.6658583367', '4.7303248545', '23.7568870187\\n'],\n",
       " ['6.6303285500', '4.6749708038', '23.6018896103\\n'],\n",
       " ['6.6609587774', '4.7123606465', '23.9269524813\\n'],\n",
       " ['6.6380742559', '4.6900356652', '23.7727835774\\n'],\n",
       " ['6.6918882805', '4.7316641762', '24.0872740746\\n'],\n",
       " ['6.6393083462', '4.6680655941', '23.8917693496\\n'],\n",
       " ['6.6887055928', '4.7262315042', '24.1000428796\\n'],\n",
       " ['6.6810195235', '4.7129571922', '24.1079047322\\n'],\n",
       " ['6.6813754066', '4.7177243323', '23.9785015583\\n'],\n",
       " ['6.6775845697', '4.7124433204', '23.9917382598\\n'],\n",
       " ['6.6342818354', '4.6732825408', '23.9770397544\\n']]"
      ]
     },
     "execution_count": 70,
     "metadata": {},
     "output_type": "execute_result"
    }
   ],
   "source": [
    "k_metrics=[]\n",
    "\n",
    "for k in range(2, 21):\n",
    "    with open(f\"../log_speed_knn/GWN/GWN_{k}.log\") as f:\n",
    "        line=f.readlines()[-14]\n",
    "        # metric=float(line.split(\",\")[-1].strip(\"\\n\"))\n",
    "        k_metrics.append(line.split(\", \")[-3:])\n",
    "\n",
    "k_metrics"
   ]
  },
  {
   "cell_type": "code",
   "execution_count": 3,
   "metadata": {},
   "outputs": [
    {
     "name": "stdout",
     "output_type": "stream",
     "text": [
      "all pred steps, GraphWaveNet, test, MSE, RMSE, MAE, MAPE, 43.9612566805, 6.6303285500, 4.6749708038, 23.6018896103\n",
      "1 step, GraphWaveNet, test, MSE, RMSE, MAE, MAPE, 43.0547945181, 6.5616152370, 4.5966413843, 23.3326956630\n",
      "2 step, GraphWaveNet, test, MSE, RMSE, MAE, MAPE, 43.2734182481, 6.5782534345, 4.6173152968, 23.4022930264\n",
      "3 step, GraphWaveNet, test, MSE, RMSE, MAE, MAPE, 43.4372132009, 6.5906914054, 4.6358383554, 23.4605699778\n",
      "4 step, GraphWaveNet, test, MSE, RMSE, MAE, MAPE, 43.6207015197, 6.6045969990, 4.6514041459, 23.5066130757\n",
      "5 step, GraphWaveNet, test, MSE, RMSE, MAE, MAPE, 43.8146741874, 6.6192653813, 4.6671080329, 23.5233128071\n",
      "6 step, GraphWaveNet, test, MSE, RMSE, MAE, MAPE, 43.9451191261, 6.6291114884, 4.6767783699, 23.5642611980\n",
      "7 step, GraphWaveNet, test, MSE, RMSE, MAE, MAPE, 44.0574503104, 6.6375786482, 4.6838592641, 23.6268535256\n",
      "8 step, GraphWaveNet, test, MSE, RMSE, MAE, MAPE, 44.2289142018, 6.6504822533, 4.6944694992, 23.6522525549\n",
      "9 step, GraphWaveNet, test, MSE, RMSE, MAE, MAPE, 44.3288552899, 6.6579918361, 4.7019916996, 23.7456396222\n",
      "10 step, GraphWaveNet, test, MSE, RMSE, MAE, MAPE, 44.4806673741, 6.6693828331, 4.7131536622, 23.7455651164\n",
      "11 step, GraphWaveNet, test, MSE, RMSE, MAE, MAPE, 44.5953741585, 6.6779768013, 4.7245995955, 23.8103672862\n",
      "12 step, GraphWaveNet, test, MSE, RMSE, MAE, MAPE, 44.6978980315, 6.6856486620, 4.7364903393, 23.8519474864\n",
      "Model Testing Ended ... Tue May 31 02:21:14 2022\n"
     ]
    }
   ],
   "source": [
    "# GWN speed k=11\n",
    "\n",
    "k=11\n",
    "with open(f\"../log_speed_knn/GWN/GWN_{k}.log\") as f:\n",
    "        lines=f.readlines()[-14:]\n",
    "        for line in lines:\n",
    "            print(line, end=\"\")"
   ]
  }
 ],
 "metadata": {
  "interpreter": {
   "hash": "6c06479978a9afb049dacef30f4b37fb04e7a2dfd65fe1755a86e45fec2f65ba"
  },
  "kernelspec": {
   "display_name": "Python 3.7.11 ('torch1.7')",
   "language": "python",
   "name": "python3"
  },
  "language_info": {
   "codemirror_mode": {
    "name": "ipython",
    "version": 3
   },
   "file_extension": ".py",
   "mimetype": "text/x-python",
   "name": "python",
   "nbconvert_exporter": "python",
   "pygments_lexer": "ipython3",
   "version": "3.7.11"
  },
  "orig_nbformat": 4
 },
 "nbformat": 4,
 "nbformat_minor": 2
}
